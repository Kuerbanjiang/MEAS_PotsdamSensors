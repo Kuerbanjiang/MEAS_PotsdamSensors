{
 "cells": [
  {
   "cell_type": "markdown",
   "metadata": {},
   "source": [
    "# Using Pyserial Read MEAS"
   ]
  },
  {
   "cell_type": "code",
   "execution_count": null,
   "metadata": {},
   "outputs": [],
   "source": [
    "import serial\n",
    "import time\n",
    "import datetime\n",
    "\n",
    "serial_port = '/dev/cu.usbserial-AH06EZEO';\n",
    "baud_rate = 9600; #In arduino, Serial.begin(baud_rate)\n",
    "write_to_file_path = \"output.txt\";\n",
    "\n",
    "output_file = open(write_to_file_path, \"w+\");\n",
    "ser = serial.Serial(serial_port, baud_rate)\n",
    "while True:\n",
    "    line = ser.readline();\n",
    "    timestamp = str(time.time())\n",
    "    #timestamp = str(datetime.datetime.fromtimestamp(time.time()).strftime('%Y-%m-%d %H:%M:%S'))\n",
    "    line = line.decode(\"utf-8\") #ser.readline returns a binary, convert to string\n",
    "    line=(timestamp+line)\n",
    "    \n",
    "    print(line);\n",
    "    \n",
    "    output_file.write(line);\n",
    "    \n",
    "    "
   ]
  }
 ],
 "metadata": {
  "kernelspec": {
   "display_name": "Python 3",
   "language": "python",
   "name": "python3"
  },
  "language_info": {
   "codemirror_mode": {
    "name": "ipython",
    "version": 3
   },
   "file_extension": ".py",
   "mimetype": "text/x-python",
   "name": "python",
   "nbconvert_exporter": "python",
   "pygments_lexer": "ipython3",
   "version": "3.6.5"
  }
 },
 "nbformat": 4,
 "nbformat_minor": 2
}
